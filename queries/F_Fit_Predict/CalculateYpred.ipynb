{
 "cells": [
  {
   "cell_type": "code",
   "execution_count": 1,
   "id": "streaming-design",
   "metadata": {},
   "outputs": [],
   "source": [
    "import pandas as pd\n",
    "import numpy as np\n",
    "import psycopg2\n",
    "import pickle\n",
    "import matplotlib.pyplot as plt\n",
    "plt.style.use('fivethirtyeight')\n",
    "def pg_hook():\n",
    "    return psycopg2.connect(dbname=\"mydb\", user=\"myuser\", password=\"mypassword\", host='localhost', port=5432)\n",
    "conn = pg_hook()\n",
    "conn.autocommit = True"
   ]
  },
  {
   "cell_type": "code",
   "execution_count": 2,
   "id": "finished-fantasy",
   "metadata": {},
   "outputs": [],
   "source": [
    "q_pg = \"\"\"\n",
    "SELECT * FROM mlm.scores;\n",
    "\"\"\"\n",
    "df = pd.read_sql(q_pg, conn)\n",
    "df.set_index('puid', drop=True, inplace=True)"
   ]
  },
  {
   "cell_type": "code",
   "execution_count": 3,
   "id": "regulation-distribution",
   "metadata": {},
   "outputs": [],
   "source": [
    "q_sbs = \"\"\"\n",
    "SELECT puid, firstnames_source, firstnames_target FROM exploration.simplesbs;\n",
    "\"\"\"\n",
    "dfsbs = pd.read_sql(q_sbs, conn).set_index('puid', drop=True)"
   ]
  },
  {
   "cell_type": "code",
   "execution_count": 4,
   "id": "indoor-venezuela",
   "metadata": {},
   "outputs": [],
   "source": [
    "from fuzzywuzzy.fuzz import token_set_ratio\n",
    "Xfwz = pd.DataFrame(index=dfsbs.index)\n",
    "Xfwz['firstnames_tokenset'] = dfsbs[['firstnames_source', 'firstnames_target']].apply(lambda r: token_set_ratio(*r)/100, axis=1)"
   ]
  },
  {
   "cell_type": "code",
   "execution_count": 5,
   "id": "after-somalia",
   "metadata": {},
   "outputs": [],
   "source": [
    "X= df[['firstnames_tfidf', 'surname_tfidf', 'locality_tfidf',\n",
    "       'postalcodelong_tfidf', 'route_tfidf', 'title_tfidf',\n",
    "       'firstnames_levenshtein', 'surname_levenshtein', 'route_levenshtein',\n",
    "       'locality_levenshtein', 'postalcodelong_levenshtein',\n",
    "       'firstnames_trg_metaphone', 'surname_trg_metaphone',\n",
    "       'locality_trg_metaphone', 'route_trg_metaphone',\n",
    "       'phone_exact', 'email_exact', 'ni_number_exact', 'geo_score_ths']].fillna(0)"
   ]
  },
  {
   "cell_type": "code",
   "execution_count": 6,
   "id": "impossible-xerox",
   "metadata": {},
   "outputs": [],
   "source": [
    "X['firstnames_tokenset'] = Xfwz.loc[X.index, 'firstnames_tokenset']"
   ]
  },
  {
   "cell_type": "markdown",
   "id": "alpine-wales",
   "metadata": {},
   "source": [
    "## Load model"
   ]
  },
  {
   "cell_type": "code",
   "execution_count": 7,
   "id": "arctic-trigger",
   "metadata": {},
   "outputs": [],
   "source": [
    "with open('/Users/pogier/Documents/63-Elk/dockersetup/shared_volume/ml_models/gradient_boosting.pickle' ,'rb') as f:\n",
    "    model = pickle.load(f)"
   ]
  },
  {
   "cell_type": "code",
   "execution_count": 8,
   "id": "transparent-nebraska",
   "metadata": {},
   "outputs": [],
   "source": [
    "y_true = pd.read_sql(\"\"\" SELECT puid, y_true FROM mlm.ytrue;\"\"\", conn).set_index('puid')"
   ]
  },
  {
   "cell_type": "code",
   "execution_count": 9,
   "id": "taken-membership",
   "metadata": {},
   "outputs": [],
   "source": [
    "ix_common = y_true.index.intersection(X.index)"
   ]
  },
  {
   "cell_type": "code",
   "execution_count": 10,
   "id": "manufactured-marriage",
   "metadata": {},
   "outputs": [
    {
     "data": {
      "text/plain": [
       "0.9937888198757764"
      ]
     },
     "execution_count": 10,
     "metadata": {},
     "output_type": "execute_result"
    }
   ],
   "source": [
    "model.score( X.loc[ix_common], y_true.loc[ix_common])"
   ]
  },
  {
   "cell_type": "code",
   "execution_count": 11,
   "id": "special-evidence",
   "metadata": {},
   "outputs": [],
   "source": [
    "from sklearn.model_selection import train_test_split\n",
    "from sklearn.metrics import  recall_score, accuracy_score, precision_score"
   ]
  },
  {
   "cell_type": "code",
   "execution_count": 12,
   "id": "stupid-degree",
   "metadata": {},
   "outputs": [
    {
     "data": {
      "text/plain": [
       "0.9947698744769874"
      ]
     },
     "execution_count": 12,
     "metadata": {},
     "output_type": "execute_result"
    }
   ],
   "source": [
    "y_pred = model.predict(X.loc[ix_common])\n",
    "recall_score(y_true.loc[ix_common], y_pred)"
   ]
  },
  {
   "cell_type": "code",
   "execution_count": 13,
   "id": "developed-edition",
   "metadata": {},
   "outputs": [
    {
     "data": {
      "text/plain": [
       "0.9947698744769874"
      ]
     },
     "execution_count": 13,
     "metadata": {},
     "output_type": "execute_result"
    }
   ],
   "source": [
    "precision_score(y_true.loc[ix_common], y_pred)"
   ]
  },
  {
   "cell_type": "code",
   "execution_count": null,
   "id": "legendary-outside",
   "metadata": {},
   "outputs": [],
   "source": []
  },
  {
   "cell_type": "code",
   "execution_count": null,
   "id": "introductory-chamber",
   "metadata": {},
   "outputs": [],
   "source": []
  },
  {
   "cell_type": "markdown",
   "id": "geological-satellite",
   "metadata": {},
   "source": [
    "## Go to Predict"
   ]
  },
  {
   "cell_type": "code",
   "execution_count": 14,
   "id": "seasonal-bicycle",
   "metadata": {},
   "outputs": [],
   "source": [
    "y_proba = pd.Series(data=model.predict_proba(X)[:,1], index=X.index, name='y_proba')\n"
   ]
  },
  {
   "cell_type": "code",
   "execution_count": 15,
   "id": "sustained-native",
   "metadata": {},
   "outputs": [],
   "source": [
    "fp_export = '/Users/pogier/Documents/63-Elk/dockersetup/shared_volume/staging/y_proba.csv'"
   ]
  },
  {
   "cell_type": "code",
   "execution_count": 16,
   "id": "aggregate-mason",
   "metadata": {},
   "outputs": [],
   "source": [
    "pd.DataFrame(y_proba).to_csv(fp_export, sep=',', encoding='utf-8', index=True)"
   ]
  },
  {
   "cell_type": "code",
   "execution_count": null,
   "id": "retained-worry",
   "metadata": {},
   "outputs": [],
   "source": []
  }
 ],
 "metadata": {
  "kernelspec": {
   "display_name": "Python 3",
   "language": "python",
   "name": "python3"
  },
  "language_info": {
   "codemirror_mode": {
    "name": "ipython",
    "version": 3
   },
   "file_extension": ".py",
   "mimetype": "text/x-python",
   "name": "python",
   "nbconvert_exporter": "python",
   "pygments_lexer": "ipython3",
   "version": "3.9.1"
  }
 },
 "nbformat": 4,
 "nbformat_minor": 5
}
