{
 "cells": [
  {
   "cell_type": "code",
   "execution_count": 1,
   "id": "streaming-design",
   "metadata": {},
   "outputs": [],
   "source": [
    "import pandas as pd\n",
    "import numpy as np\n",
    "import psycopg2\n",
    "import pickle\n",
    "import matplotlib.pyplot as plt\n",
    "plt.style.use('fivethirtyeight')\n",
    "def pg_hook():\n",
    "    return psycopg2.connect(dbname=\"mydb\", user=\"myuser\", password=\"mypassword\", host='localhost', port=5439)\n",
    "conn = pg_hook()\n",
    "conn.autocommit = True"
   ]
  },
  {
   "cell_type": "code",
   "execution_count": 6,
   "id": "finished-fantasy",
   "metadata": {},
   "outputs": [],
   "source": [
    "q_pg = \"\"\"\n",
    "SELECT * FROM mlm.scores;\n",
    "\"\"\"\n",
    "df = pd.read_sql(q_pg, conn)\n",
    "df.set_index('puid', drop=True, inplace=True)\n",
    "distance_ths = 2000\n",
    "df['geo_similarity'] = df['geo_distance'].where(~df['geo_distance'].isnull(),distance_ths).apply(lambda r:max( (distance_ths-r)/distance_ths , 0))"
   ]
  },
  {
   "cell_type": "code",
   "execution_count": 7,
   "id": "after-somalia",
   "metadata": {},
   "outputs": [],
   "source": [
    "X= df[['firstnames_tfidf', 'surname_tfidf', 'locality_tfidf',\n",
    "       'postalcodelong_tfidf', 'route_tfidf', 'title_tfidf',\n",
    "       'firstnames_levenshtein', 'surname_levenshtein', 'route_levenshtein',\n",
    "       'locality_levenshtein', 'postalcodelong_levenshtein',\n",
    "       'firstnames_trg_metaphone', 'surname_trg_metaphone',\n",
    "       'locality_trg_metaphone', 'route_trg_metaphone',\n",
    "       'phone_exact', 'email_exact', 'ni_number_exact', 'geo_similarity']].fillna(0)"
   ]
  },
  {
   "cell_type": "markdown",
   "id": "alpine-wales",
   "metadata": {},
   "source": [
    "## Load model"
   ]
  },
  {
   "cell_type": "code",
   "execution_count": 8,
   "id": "arctic-trigger",
   "metadata": {},
   "outputs": [],
   "source": [
    "with open('/Users/pogier/Documents/63-Elk/dockersetup/shared_volume/ml_models/gradient_boosting.pickle' ,'rb') as f:\n",
    "    gb = pickle.load(f)"
   ]
  },
  {
   "cell_type": "code",
   "execution_count": 10,
   "id": "transparent-nebraska",
   "metadata": {},
   "outputs": [],
   "source": [
    "y_true = pd.read_sql(\"\"\" SELECT puid, y_true FROM mlm.ytrue;\"\"\", conn).set_index('puid')"
   ]
  },
  {
   "cell_type": "code",
   "execution_count": 15,
   "id": "taken-membership",
   "metadata": {},
   "outputs": [],
   "source": [
    "ix_common = y_true.index.intersection(X.index)"
   ]
  },
  {
   "cell_type": "code",
   "execution_count": 17,
   "id": "manufactured-marriage",
   "metadata": {},
   "outputs": [
    {
     "data": {
      "text/plain": [
       "0.9974293059125964"
      ]
     },
     "execution_count": 17,
     "metadata": {},
     "output_type": "execute_result"
    }
   ],
   "source": [
    "gb.score( X.loc[ix_common], y_true.loc[ix_common])"
   ]
  },
  {
   "cell_type": "code",
   "execution_count": 25,
   "id": "special-evidence",
   "metadata": {},
   "outputs": [],
   "source": [
    "from sklearn.model_selection import train_test_split\n",
    "from sklearn.metrics import  recall_score, accuracy_score, precision_score"
   ]
  },
  {
   "cell_type": "code",
   "execution_count": 29,
   "id": "stupid-degree",
   "metadata": {},
   "outputs": [
    {
     "data": {
      "text/plain": [
       "0.9959016393442623"
      ]
     },
     "execution_count": 29,
     "metadata": {},
     "output_type": "execute_result"
    }
   ],
   "source": [
    "y_pred = gb.predict(X.loc[ix_common])\n",
    "recall_score(y_true.loc[ix_common], y_pred)"
   ]
  },
  {
   "cell_type": "code",
   "execution_count": 30,
   "id": "developed-edition",
   "metadata": {},
   "outputs": [
    {
     "data": {
      "text/plain": [
       "0.9959016393442623"
      ]
     },
     "execution_count": 30,
     "metadata": {},
     "output_type": "execute_result"
    }
   ],
   "source": [
    "precision_score(y_true.loc[ix_common], y_pred)"
   ]
  },
  {
   "cell_type": "markdown",
   "id": "geological-satellite",
   "metadata": {},
   "source": [
    "## Go to Predict"
   ]
  },
  {
   "cell_type": "code",
   "execution_count": 21,
   "id": "seasonal-bicycle",
   "metadata": {},
   "outputs": [],
   "source": [
    "y_proba = pd.Series(data=gb.predict_proba(X)[:,1], index=X.index, name='y_proba')\n"
   ]
  },
  {
   "cell_type": "code",
   "execution_count": 22,
   "id": "sustained-native",
   "metadata": {},
   "outputs": [],
   "source": [
    "fp_export = '/Users/pogier/Documents/63-Elk/dockersetup/shared_volume/staging/y_proba.csv'"
   ]
  },
  {
   "cell_type": "code",
   "execution_count": 24,
   "id": "aggregate-mason",
   "metadata": {},
   "outputs": [],
   "source": [
    "pd.DataFrame(y_proba).to_csv(fp_export, sep=',', encoding='utf-8', index=True)"
   ]
  },
  {
   "cell_type": "code",
   "execution_count": null,
   "id": "retained-worry",
   "metadata": {},
   "outputs": [],
   "source": []
  }
 ],
 "metadata": {
  "kernelspec": {
   "display_name": "Python 3",
   "language": "python",
   "name": "python3"
  },
  "language_info": {
   "codemirror_mode": {
    "name": "ipython",
    "version": 3
   },
   "file_extension": ".py",
   "mimetype": "text/x-python",
   "name": "python",
   "nbconvert_exporter": "python",
   "pygments_lexer": "ipython3",
   "version": "3.9.1"
  }
 },
 "nbformat": 4,
 "nbformat_minor": 5
}
