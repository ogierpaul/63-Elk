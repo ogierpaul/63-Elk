{
 "cells": [
  {
   "cell_type": "code",
   "execution_count": 48,
   "id": "numerical-creativity",
   "metadata": {},
   "outputs": [],
   "source": [
    "import pandas as pd\n",
    "import numpy as np\n",
    "import psycopg2\n",
    "import pickle\n",
    "import matplotlib.pyplot as plt\n",
    "plt.style.use('fivethirtyeight')"
   ]
  },
  {
   "cell_type": "code",
   "execution_count": 37,
   "id": "historical-amplifier",
   "metadata": {},
   "outputs": [],
   "source": [
    "def pg_hook():\n",
    "    return psycopg2.connect(dbname=\"mydb\", user=\"myuser\", password=\"mypassword\", host='localhost', port=5439)\n",
    "conn = pg_hook()\n",
    "conn.autocommit = True\n"
   ]
  },
  {
   "cell_type": "code",
   "execution_count": 151,
   "id": "killing-seeking",
   "metadata": {},
   "outputs": [],
   "source": [
    "q_pg = \"\"\"\n",
    "SELECT * FROM mlm.ytrue\n",
    "INNER JOIN mlm.scores USING(puid);\n",
    "\"\"\"\n",
    "df = pd.read_sql(q_pg, conn)\n",
    "df.set_index('puid', drop=True, inplace=True)\n",
    "y_true = df['y_true'].copy()\n",
    "df.drop(['create_ts', 'update_ts', \n",
    "        'y_true'], axis=1, inplace=True)\n",
    "distance_ths = 2000\n",
    "df['geo_similarity'] = df['geo_distance'].where(~df['geo_distance'].isnull(),distance_ths).apply(lambda r:max( (distance_ths-r)/distance_ths , 0))"
   ]
  },
  {
   "cell_type": "code",
   "execution_count": 152,
   "id": "revolutionary-injection",
   "metadata": {},
   "outputs": [],
   "source": [
    "X= df[['firstnames_tfidf', 'surname_tfidf', 'locality_tfidf',\n",
    "       'postalcodelong_tfidf', 'route_tfidf', 'title_tfidf',\n",
    "       'firstnames_levenshtein', 'surname_levenshtein', 'route_levenshtein',\n",
    "       'locality_levenshtein', 'postalcodelong_levenshtein',\n",
    "       'firstnames_trg_metaphone', 'surname_trg_metaphone',\n",
    "       'locality_trg_metaphone', 'route_trg_metaphone',\n",
    "       'phone_exact', 'email_exact', 'ni_number_exact', 'geo_similarity']].fillna(0)"
   ]
  },
  {
   "cell_type": "code",
   "execution_count": 95,
   "id": "organized-league",
   "metadata": {},
   "outputs": [],
   "source": [
    "from sklearn.ensemble import GradientBoostingClassifier\n",
    "from sklearn.linear_model import LogisticRegressionCV\n",
    "from sklearn.model_selection import cross_val_score"
   ]
  },
  {
   "cell_type": "code",
   "execution_count": 96,
   "id": "sought-dallas",
   "metadata": {},
   "outputs": [],
   "source": [
    "from sklearn.ensemble import RandomForestClassifier\n",
    "from sklearn.model_selection import train_test_split, GridSearchCV, StratifiedKFold\n",
    "from sklearn.metrics import roc_curve, precision_recall_curve, auc, make_scorer, recall_score,\\\n",
    "accuracy_score, precision_score, confusion_matrix"
   ]
  },
  {
   "cell_type": "code",
   "execution_count": 124,
   "id": "alone-gambling",
   "metadata": {},
   "outputs": [],
   "source": [
    "def grid_search_wrapper(X_train, y_train, X_test, y_test, clf, param_grid, refit_score='precision_score'):\n",
    "    \"\"\"\n",
    "    fits a GridSearchCV classifier using refit_score for optimization\n",
    "    prints classifier performance metrics\n",
    "    \"\"\"\n",
    "    skf = StratifiedKFold(n_splits=10)\n",
    "    grid_search = GridSearchCV(clf, param_grid, scoring=scorers, refit=refit_score,\n",
    "                           cv=skf, return_train_score=True, n_jobs=-1)\n",
    "    grid_search.fit(X_train.values, y_train.values)\n",
    "\n",
    "    # make the predictions\n",
    "    y_pred = grid_search.predict(X_test.values)\n",
    "\n",
    "    print('Best params for {}'.format(refit_score))\n",
    "    print(grid_search.best_params_)\n",
    "\n",
    "    # confusion matrix on the test data.\n",
    "    print('\\nConfusion matrix of model optimized for {} on the test data:'.format(refit_score))\n",
    "    print(pd.DataFrame(confusion_matrix(y_test, y_pred),\n",
    "                 columns=['pred_neg', 'pred_pos'], index=['neg', 'pos']))\n",
    "    results = pd.DataFrame(grid_search.cv_results_)\n",
    "    results = results.sort_values(by=f'mean_test_{refit_score}', ascending=False)\n",
    "    return grid_search, results"
   ]
  },
  {
   "cell_type": "code",
   "execution_count": 155,
   "id": "revised-metadata",
   "metadata": {},
   "outputs": [],
   "source": [
    "clf_gb = GradientBoostingClassifier()\n",
    "\n",
    "param_grid_gb = {\n",
    "    'min_samples_split': [3, 4,5, 8], \n",
    "    'n_estimators' : [50, 75, 100],\n",
    "    'max_depth': [8, 10, 12, 15],\n",
    "    'max_features': [3, 4, 5, 7]\n",
    "}\n",
    "\n",
    "scorers = {\n",
    "    'precision_score': make_scorer(precision_score),\n",
    "    'recall_score': make_scorer(recall_score),\n",
    "    'accuracy_score': make_scorer(accuracy_score)\n",
    "}\n"
   ]
  },
  {
   "cell_type": "code",
   "execution_count": 156,
   "id": "developmental-details",
   "metadata": {},
   "outputs": [
    {
     "name": "stdout",
     "output_type": "stream",
     "text": [
      "Best params for recall_score\n",
      "{'max_depth': 8, 'max_features': 3, 'min_samples_split': 3, 'n_estimators': 75}\n",
      "\n",
      "Confusion matrix of model optimized for recall_score on the test data:\n",
      "     pred_neg  pred_pos\n",
      "neg       134         2\n",
      "pos         2        57\n"
     ]
    },
    {
     "data": {
      "text/html": [
       "<div>\n",
       "<style scoped>\n",
       "    .dataframe tbody tr th:only-of-type {\n",
       "        vertical-align: middle;\n",
       "    }\n",
       "\n",
       "    .dataframe tbody tr th {\n",
       "        vertical-align: top;\n",
       "    }\n",
       "\n",
       "    .dataframe thead th {\n",
       "        text-align: right;\n",
       "    }\n",
       "</style>\n",
       "<table border=\"1\" class=\"dataframe\">\n",
       "  <thead>\n",
       "    <tr style=\"text-align: right;\">\n",
       "      <th></th>\n",
       "      <th>mean_test_precision_score</th>\n",
       "      <th>mean_test_recall_score</th>\n",
       "      <th>mean_test_accuracy_score</th>\n",
       "    </tr>\n",
       "  </thead>\n",
       "  <tbody>\n",
       "    <tr>\n",
       "      <th>145</th>\n",
       "      <td>0.984444</td>\n",
       "      <td>0.994444</td>\n",
       "      <td>0.993162</td>\n",
       "    </tr>\n",
       "    <tr>\n",
       "      <th>16</th>\n",
       "      <td>0.990000</td>\n",
       "      <td>0.994444</td>\n",
       "      <td>0.994886</td>\n",
       "    </tr>\n",
       "    <tr>\n",
       "      <th>1</th>\n",
       "      <td>0.990000</td>\n",
       "      <td>0.994444</td>\n",
       "      <td>0.994886</td>\n",
       "    </tr>\n",
       "    <tr>\n",
       "      <th>101</th>\n",
       "      <td>0.990000</td>\n",
       "      <td>0.994444</td>\n",
       "      <td>0.994886</td>\n",
       "    </tr>\n",
       "  </tbody>\n",
       "</table>\n",
       "</div>"
      ],
      "text/plain": [
       "     mean_test_precision_score  mean_test_recall_score  \\\n",
       "145                   0.984444                0.994444   \n",
       "16                    0.990000                0.994444   \n",
       "1                     0.990000                0.994444   \n",
       "101                   0.990000                0.994444   \n",
       "\n",
       "     mean_test_accuracy_score  \n",
       "145                  0.993162  \n",
       "16                   0.994886  \n",
       "1                    0.994886  \n",
       "101                  0.994886  "
      ]
     },
     "execution_count": 156,
     "metadata": {},
     "output_type": "execute_result"
    }
   ],
   "source": [
    "X_train, X_test, y_train, y_test = train_test_split(X, y_true)\n",
    "grid_gb, results_gb = grid_search_wrapper(X_train, y_train, X_test, y_test, clf_gb, param_grid_gb, 'recall_score')\n",
    "results_gb[['mean_test_precision_score','mean_test_recall_score','mean_test_accuracy_score']].head(4)"
   ]
  },
  {
   "cell_type": "code",
   "execution_count": 157,
   "id": "yellow-window",
   "metadata": {},
   "outputs": [],
   "source": [
    "best_params = {'max_depth': 8, 'max_features': 3, 'min_samples_split': 3, 'n_estimators': 75}"
   ]
  },
  {
   "cell_type": "code",
   "execution_count": 169,
   "id": "eleven-graphic",
   "metadata": {},
   "outputs": [
    {
     "data": {
      "text/plain": [
       "0.9830508474576272"
      ]
     },
     "execution_count": 169,
     "metadata": {},
     "output_type": "execute_result"
    }
   ],
   "source": [
    "from sklearn.inspection import permutation_importance\n",
    "gb = GradientBoostingClassifier(**grid_gb.best_params_)\n",
    "gb.fit(X_train, y_train)\n",
    "gb.score(X_test, y_test)\n",
    "recall_score(y_test, gb.predict(X_test))"
   ]
  },
  {
   "cell_type": "code",
   "execution_count": 161,
   "id": "useful-explorer",
   "metadata": {},
   "outputs": [],
   "source": [
    "with open('/Users/pogier/Documents/63-Elk/dockersetup/shared_volume/ml_models/gradient_boosting.pickle', 'wb') as f1:\n",
    "    pickle.dump(gb, f1)"
   ]
  },
  {
   "cell_type": "code",
   "execution_count": 164,
   "id": "neither-jewelry",
   "metadata": {},
   "outputs": [],
   "source": [
    "import json\n",
    "with open('/Users/pogier/Documents/63-Elk/dockersetup/shared_volume/ml_models/gradient_boosting.txt', 'w') as f2:\n",
    "    f2.write(','.join(X.columns))\n",
    "    f2.write('\\n')\n",
    "    json.dump(grid_gb.best_params_, f2)"
   ]
  },
  {
   "cell_type": "code",
   "execution_count": 147,
   "id": "large-somewhere",
   "metadata": {},
   "outputs": [
    {
     "data": {
      "image/png": "[encoded data removed]",
      "text/plain": [
       "<Figure size 864x432 with 2 Axes>"
      ]
     },
     "metadata": {},
     "output_type": "display_data"
    }
   ],
   "source": [
    "feature_importance = gb.feature_importances_\n",
    "sorted_idx = np.argsort(feature_importance)\n",
    "pos = np.arange(sorted_idx.shape[0]) + .5\n",
    "fig = plt.figure(figsize=(12, 6))\n",
    "plt.subplot(1, 2, 1)\n",
    "plt.barh(pos, feature_importance[sorted_idx], align='center')\n",
    "plt.yticks(pos, np.array(X.columns)[sorted_idx])\n",
    "plt.title('Feature Importance')\n",
    "fig.tight_layout()\n",
    "result = permutation_importance(gb, X_test, y_test, n_repeats=10, n_jobs=2)\n",
    "sorted_idx = result.importances_mean.argsort()\n",
    "plt.subplot(1, 2, 2)\n",
    "plt.boxplot(result.importances[sorted_idx].T,\n",
    "            vert=False, labels=np.array(X.columns)[sorted_idx])\n",
    "plt.title(\"Permutation Importance (test set)\")\n",
    "fig.tight_layout()\n",
    "plt.show()"
   ]
  },
  {
   "cell_type": "markdown",
   "id": "waiting-prescription",
   "metadata": {},
   "source": [
    "## Feature Selection: Reducing the number of columns for faster & More reproducible"
   ]
  },
  {
   "cell_type": "code",
   "execution_count": 140,
   "id": "electrical-warrant",
   "metadata": {},
   "outputs": [
    {
     "name": "stdout",
     "output_type": "stream",
     "text": [
      "Best params for recall_score\n",
      "{'max_depth': 10, 'max_features': 4, 'min_samples_split': 8, 'n_estimators': 75}\n",
      "\n",
      "Confusion matrix of model optimized for recall_score on the test data:\n",
      "     pred_neg  pred_pos\n",
      "neg       128         1\n",
      "pos         1        65\n"
     ]
    },
    {
     "data": {
      "text/html": [
       "<div>\n",
       "<style scoped>\n",
       "    .dataframe tbody tr th:only-of-type {\n",
       "        vertical-align: middle;\n",
       "    }\n",
       "\n",
       "    .dataframe tbody tr th {\n",
       "        vertical-align: top;\n",
       "    }\n",
       "\n",
       "    .dataframe thead th {\n",
       "        text-align: right;\n",
       "    }\n",
       "</style>\n",
       "<table border=\"1\" class=\"dataframe\">\n",
       "  <thead>\n",
       "    <tr style=\"text-align: right;\">\n",
       "      <th></th>\n",
       "      <th>mean_test_precision_score</th>\n",
       "      <th>mean_test_recall_score</th>\n",
       "      <th>mean_test_accuracy_score</th>\n",
       "    </tr>\n",
       "  </thead>\n",
       "  <tbody>\n",
       "    <tr>\n",
       "      <th>33</th>\n",
       "      <td>0.973918</td>\n",
       "      <td>0.977778</td>\n",
       "      <td>0.984629</td>\n",
       "    </tr>\n",
       "    <tr>\n",
       "      <th>80</th>\n",
       "      <td>0.978655</td>\n",
       "      <td>0.977778</td>\n",
       "      <td>0.986324</td>\n",
       "    </tr>\n",
       "    <tr>\n",
       "      <th>58</th>\n",
       "      <td>0.973918</td>\n",
       "      <td>0.977778</td>\n",
       "      <td>0.984600</td>\n",
       "    </tr>\n",
       "    <tr>\n",
       "      <th>10</th>\n",
       "      <td>0.983918</td>\n",
       "      <td>0.977778</td>\n",
       "      <td>0.988048</td>\n",
       "    </tr>\n",
       "  </tbody>\n",
       "</table>\n",
       "</div>"
      ],
      "text/plain": [
       "    mean_test_precision_score  mean_test_recall_score  \\\n",
       "33                   0.973918                0.977778   \n",
       "80                   0.978655                0.977778   \n",
       "58                   0.973918                0.977778   \n",
       "10                   0.983918                0.977778   \n",
       "\n",
       "    mean_test_accuracy_score  \n",
       "33                  0.984629  \n",
       "80                  0.986324  \n",
       "58                  0.984600  \n",
       "10                  0.988048  "
      ]
     },
     "execution_count": 140,
     "metadata": {},
     "output_type": "execute_result"
    }
   ],
   "source": [
    "Xs = df[['firstnames_tfidf', 'firstnames_levenshtein', 'firstnames_trg_metaphone', \n",
    "         'surname_tfidf', 'surname_levenshtein',\n",
    "         'geo_similarity',  'postalcodelong_tfidf',\n",
    "          'locality_tfidf',  'route_tfidf']].fillna(0)\n",
    "Xs_train, Xs_test, ys_train, ys_test = train_test_split(Xs, y_true)\n",
    "clf_gbs = GradientBoostingClassifier()\n",
    "param_grid_gbs = param_grid_rf = {\n",
    "    'min_samples_split': [ 5, 7], \n",
    "    'n_estimators' : [50, 75, 100],\n",
    "    'max_depth': [10, 12, 15, 17, 20],\n",
    "    'max_features': [ 4, 5, 7]\n",
    "}\n",
    "grid_gbs, results_gbs = grid_search_wrapper(Xs_train, ys_train, Xs_test, ys_test, clf_gbs, param_grid_gb, 'recall_score')\n",
    "results_gbs[['mean_test_precision_score','mean_test_recall_score','mean_test_accuracy_score']].head(4)"
   ]
  },
  {
   "cell_type": "markdown",
   "id": "educated-resistance",
   "metadata": {},
   "source": [
    "## Adjusting the thresholds for sending low-confidence matches to TDS"
   ]
  },
  {
   "cell_type": "markdown",
   "id": "blind-arabic",
   "metadata": {},
   "source": [
    "### We are using the full model to make sure not to forget anythin"
   ]
  },
  {
   "cell_type": "code",
   "execution_count": 171,
   "id": "bigger-chester",
   "metadata": {},
   "outputs": [
    {
     "name": "stdout",
     "output_type": "stream",
     "text": [
      "59 positive pairs correctly identified out of 195 possible pairs\n",
      "precision_score:0.9661016949152542\n",
      "recall_score:0.9661016949152542\n",
      "2 false negatives :['458827-458829' '499080-499081']\n",
      "2 false postives :['285743-285744' '465053-465054']\n"
     ]
    }
   ],
   "source": [
    "y_pred = pd.Series(data=grid_gb.predict(X_test), index=X_test.index, name='y_pred')\n",
    "y_proba = pd.Series(data=grid_gb.predict_proba(X_test)[:,1], index=X_test.index, name='y_proba')\n",
    "dfp = pd.concat([y_test, y_pred, y_proba], ignore_index=False, axis=1)\n",
    "fn = dfp.loc[(dfp['y_pred']==0) & (dfp['y_true']==1)].index\n",
    "fp = dfp.loc[(dfp['y_pred']==1) & (dfp['y_true']==0)].index\n",
    "print(f\"{y_pred.sum()} positive pairs correctly identified out of {len(y_pred)} possible pairs\")\n",
    "print(f\"precision_score:{precision_score(y_test, y_pred)}\")\n",
    "print(f\"recall_score:{recall_score(y_test, y_pred)}\")\n",
    "print(f\"{len(fn)} false negatives :{fn.values}\")\n",
    "print(f\"{len(fp)} false postives :{fp.values}\")"
   ]
  },
  {
   "cell_type": "markdown",
   "id": "resident-bolivia",
   "metadata": {},
   "source": [
    "### Lower threshold calculation: All pairs above should be considered potential matches\n",
    "- increases the number of potential matches --> Increase false positives\n",
    "- Decreases (and ideally eliminate) the matches missed --> Decreases false negatives"
   ]
  },
  {
   "cell_type": "code",
   "execution_count": 187,
   "id": "pregnant-wings",
   "metadata": {},
   "outputs": [
    {
     "data": {
      "text/plain": [
       "0.16888766538656114"
      ]
     },
     "execution_count": 187,
     "metadata": {},
     "output_type": "execute_result"
    }
   ],
   "source": [
    "dfp.loc[fn]['y_proba'].min()"
   ]
  },
  {
   "cell_type": "code",
   "execution_count": 181,
   "id": "nonprofit-ottawa",
   "metadata": {},
   "outputs": [
    {
     "name": "stdout",
     "output_type": "stream",
     "text": [
      "2 false positives: precision_score:0.9672131147540983\n",
      "0 false negatives: recall_score:1.0\n"
     ]
    }
   ],
   "source": [
    "ths_recall = 0.1\n",
    "y_trecall = (y_proba>=ths_recall).astype(int)\n",
    "total_fn = sum(y_test.multiply((~y_trecall.astype(bool)).astype(int)))\n",
    "total_fp = sum(y_trecall.multiply((~y_test.astype(bool)).astype(int)))\n",
    "print(f\"{total_fp} false positives: precision_score:{precision_score(y_test, y_trecall)}\")\n",
    "print(f\"{total_fn} false negatives: recall_score:{recall_score(y_test, y_trecall)}\")"
   ]
  },
  {
   "cell_type": "markdown",
   "id": "smart-trouble",
   "metadata": {},
   "source": [
    "### Higher Threshold"
   ]
  },
  {
   "cell_type": "code",
   "execution_count": 186,
   "id": "disturbed-taste",
   "metadata": {},
   "outputs": [
    {
     "data": {
      "text/plain": [
       "0.8147697510080769"
      ]
     },
     "execution_count": 186,
     "metadata": {},
     "output_type": "execute_result"
    }
   ],
   "source": [
    "dfp.loc[fp]['y_proba'].max()"
   ]
  },
  {
   "cell_type": "code",
   "execution_count": 183,
   "id": "united-abraham",
   "metadata": {},
   "outputs": [],
   "source": [
    "ths_sure = 0.85\n",
    "y_tsure = (y_proba>=ths_sure).astype(int)\n",
    "dfp['trecall']=y_trecall\n",
    "dfp['tsure']=y_tsure\n",
    "dfp['decision']=(dfp['trecall']+dfp['tsure']).map({0:'ignore', 1:'TDS', 2:'Sure'})"
   ]
  },
  {
   "cell_type": "code",
   "execution_count": 184,
   "id": "magnetic-passing",
   "metadata": {},
   "outputs": [
    {
     "data": {
      "text/html": [
       "<div>\n",
       "<style scoped>\n",
       "    .dataframe tbody tr th:only-of-type {\n",
       "        vertical-align: middle;\n",
       "    }\n",
       "\n",
       "    .dataframe tbody tr th {\n",
       "        vertical-align: top;\n",
       "    }\n",
       "\n",
       "    .dataframe thead th {\n",
       "        text-align: right;\n",
       "    }\n",
       "</style>\n",
       "<table border=\"1\" class=\"dataframe\">\n",
       "  <thead>\n",
       "    <tr style=\"text-align: right;\">\n",
       "      <th>y_true</th>\n",
       "      <th>0</th>\n",
       "      <th>1</th>\n",
       "    </tr>\n",
       "    <tr>\n",
       "      <th>decision</th>\n",
       "      <th></th>\n",
       "      <th></th>\n",
       "    </tr>\n",
       "  </thead>\n",
       "  <tbody>\n",
       "    <tr>\n",
       "      <th>Sure</th>\n",
       "      <td>0.0</td>\n",
       "      <td>57.0</td>\n",
       "    </tr>\n",
       "    <tr>\n",
       "      <th>TDS</th>\n",
       "      <td>2.0</td>\n",
       "      <td>2.0</td>\n",
       "    </tr>\n",
       "    <tr>\n",
       "      <th>ignore</th>\n",
       "      <td>134.0</td>\n",
       "      <td>0.0</td>\n",
       "    </tr>\n",
       "  </tbody>\n",
       "</table>\n",
       "</div>"
      ],
      "text/plain": [
       "y_true        0     1\n",
       "decision             \n",
       "Sure        0.0  57.0\n",
       "TDS         2.0   2.0\n",
       "ignore    134.0   0.0"
      ]
     },
     "execution_count": 184,
     "metadata": {},
     "output_type": "execute_result"
    }
   ],
   "source": [
    "dfp[['decision', 'y_true']].pivot_table(index='decision', columns=['y_true'], aggfunc=len).fillna(0)"
   ]
  },
  {
   "cell_type": "code",
   "execution_count": 185,
   "id": "white-theory",
   "metadata": {},
   "outputs": [
    {
     "data": {
      "text/plain": [
       "0.9661016949152542"
      ]
     },
     "execution_count": 185,
     "metadata": {},
     "output_type": "execute_result"
    }
   ],
   "source": [
    "from sklearn.metrics import f1_score\n",
    "f1_score(y_test, y_pred)"
   ]
  },
  {
   "cell_type": "markdown",
   "id": "conscious-ethnic",
   "metadata": {},
   "source": [
    "#### "
   ]
  }
 ],
 "metadata": {
  "kernelspec": {
   "display_name": "Python 3",
   "language": "python",
   "name": "python3"
  },
  "language_info": {
   "codemirror_mode": {
    "name": "ipython",
    "version": 3
   },
   "file_extension": ".py",
   "mimetype": "text/x-python",
   "name": "python",
   "nbconvert_exporter": "python",
   "pygments_lexer": "ipython3",
   "version": "3.9.1"
  }
 },
 "nbformat": 4,
 "nbformat_minor": 5
}
